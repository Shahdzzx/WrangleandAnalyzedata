{
 "cells": [
  {
   "cell_type": "markdown",
   "metadata": {},
   "source": [
    "# Wrangle and Analyze Data Project Report"
   ]
  },
  {
   "cell_type": "markdown",
   "metadata": {},
   "source": [
    "This project is the fourth project for the data analyst nanodegree and the aim of it is to gather data from a variety of sources and in a variety of formats, assess its quality and tidiness, then clean it. The dataset used  in this project is the tweet archive of Twitter user @dog_rates, also known as WeRateDogs. In the First part, data was gathered using three different sources. The first source is downloaded manually using the link provided. The second source is downloaded programmatically using the Requests library. The third one is gathered using Twitter API and Tweepy library. This file was stored in JSON format. The file is very large and hard to load and read. Thus, specific parts were selected. \n",
    "\n",
    "\n",
    "In doing assessment both visual and programmatic assessment was used. In visual assessment, google spreadsheet was to scroll and check the validity of the data. In programmatic, diffrent functions was used to assess the data and check missing values. Several quality and tideness issues were found. listed as follows: \n",
    "\n",
    "\n",
    "\n",
    "#### Quality\n",
    "\n",
    "- There are rows that includs retweets and replays and they are not original tweets written by the WeRateDogs account.\n",
    "- Some columns have many missing values and they are not required for the analysis. \n",
    "- Tweet_id should be object.\n",
    "- Rating numerator is int and it should be float.\n",
    "- Some rows has diffrent denominator other than 10.\n",
    "- In tweet ID 740373189193256964, 722974582966214656,  716439118184652801 it takes the first numerator and denominator but they are for dates and other purposes but not for rating.\n",
    "- most of the numerator ratings fell in between 1-15 only 15 tweets are above 15.\n",
    "- Full text of the tweet is not visible in the table.\n",
    "- Missing values in the dog stage column.\n",
    "- Multiple stages for one row.\n",
    " \n",
    "#### Tidiness\n",
    "- rating numerators and denominators are in seperate columns.\n",
    "- Dog stages are separated in diffrent columns and it sould be under one column.\n",
    "- Merge the data breed in one table with the domninant breed\n",
    "- Merging the three datasets in one table.\n",
    "\n",
    "In the cleaning section the issues were managed. Firstly, a copy was made fore each dataset. Then,  rows that contains  retweets and replays they were removed because they are not original tweet by the account so they will effect the quality of analysis. After that, I dropped unnecessary columns from twitter_achive dataset such as the mentiond earlier the retweets and replays colums. To handle the data type issues in some columns I changed the tweet_id to object in the three data sets. Rating_numerator data type was also changed to float so it can accept rating with decimal values. Also, all denominators were set to 10 to keep the results consistent. Some rating numerators are wrong due to the wrong extraction by taking the first numerator and denominator  in a tweet but they were assigned for dates and other purpose. This problem was handle and fixed manually. It was noticed that most of the numerator ratings fell in between 1-15 only 15 tweets are above 15. Therefore, these tweets were deleted to have a better quality results. Furthermore, tweets are not full visible so columns width were set to infinite to display the whole tweet. In the twitter archieve table the stages columns has many missing values but its regarded as None and this will effect the analysis by having the most common stage as none. Thus, it was changed NaN. Also so tweets have multiple stages and it was handled by seperating the two stages by a comma.\n",
    "\n",
    "\n",
    "Regarding Tidiness issues, most probelems were with the seperate columns. Firstly, rating numerators and denominators are in seperate columns and they be used in analysis so it better to have the rating in one column. Also, in the twitter archive dataset the dog stages were merged in one column labled 'dog stages'. Furthermore, in the image predictions dataset the dog breed column was added using for loop by taking the first and most dominant breeds and name it as the dominant breed. Finally, the three datasets were merged in one table by the tweet id."
   ]
  }
 ],
 "metadata": {
  "kernelspec": {
   "display_name": "Python 3",
   "language": "python",
   "name": "python3"
  },
  "language_info": {
   "codemirror_mode": {
    "name": "ipython",
    "version": 3
   },
   "file_extension": ".py",
   "mimetype": "text/x-python",
   "name": "python",
   "nbconvert_exporter": "python",
   "pygments_lexer": "ipython3",
   "version": "3.7.6"
  }
 },
 "nbformat": 4,
 "nbformat_minor": 4
}
